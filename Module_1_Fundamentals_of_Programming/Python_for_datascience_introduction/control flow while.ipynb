{
 "cells": [
  {
   "cell_type": "code",
   "execution_count": 5,
   "metadata": {},
   "outputs": [],
   "source": [
    "# Product of all numbers in a list\n",
    "lst=[10,20,30,40,50]"
   ]
  },
  {
   "cell_type": "code",
   "execution_count": 7,
   "metadata": {},
   "outputs": [
    {
     "name": "stdout",
     "output_type": "stream",
     "text": [
      "length of list is 5\n",
      "index is 0\n",
      "product is 10\n",
      "index is 1\n",
      "product is 200\n",
      "index is 2\n",
      "product is 6000\n",
      "index is 3\n",
      "product is 240000\n",
      "index is 4\n",
      "product is 12000000\n",
      "Product is 12000000\n"
     ]
    }
   ],
   "source": [
    "product=1\n",
    "index=0\n",
    "print(\"length of list is {}\".format(len(lst)))\n",
    "\n",
    "while index < len(lst):\n",
    "    print(\"index is {}\".format(index))\n",
    "    product *= lst[index]\n",
    "    print(\"product is {}\".format(product))\n",
    "    index += 1\n",
    "\n",
    "print(\"Product is {}\".format(product))"
   ]
  },
  {
   "cell_type": "code",
   "execution_count": 8,
   "metadata": {},
   "outputs": [
    {
     "name": "stdout",
     "output_type": "stream",
     "text": [
      "length of list is 5\n",
      "index is 0\n",
      "product is 10\n",
      "index is 1\n",
      "product is 200\n",
      "index is 2\n",
      "product is 6000\n",
      "index is 3\n",
      "product is 240000\n",
      "index is 4\n",
      "product is 12000000\n",
      "No index left\n",
      "Product is 12000000\n"
     ]
    }
   ],
   "source": [
    "product=1\n",
    "index=0\n",
    "print(\"length of list is {}\".format(len(lst)))\n",
    "\n",
    "while index < len(lst):\n",
    "    print(\"index is {}\".format(index))\n",
    "    product *= lst[index]\n",
    "    print(\"product is {}\".format(product))\n",
    "    index += 1\n",
    "else:\n",
    "    print(\"No index left\")\n",
    "\n",
    "print(\"Product is {}\".format(product))"
   ]
  },
  {
   "cell_type": "code",
   "execution_count": 10,
   "metadata": {},
   "outputs": [
    {
     "name": "stdout",
     "output_type": "stream",
     "text": [
      "Enter your number:16\n",
      "16\n",
      "Iterating for 2\n",
      "16 is divisible by2\n",
      "16 is a composite number\n"
     ]
    }
   ],
   "source": [
    "# Program to check if the given number is prime or not\n",
    "num = int(input(\"Enter your number:\"))\n",
    "\n",
    "i=2; # Start iterating with number2. Number 1 is not required as all numbers are divisible by 1\n",
    "isDivisible = False; # Flag to identify if the number is divisible\n",
    "\n",
    "print(num)\n",
    "\n",
    "# If number is 1, its neither prime nor composite\n",
    "if num==1:\n",
    "    print(\"{} is neither prime nor composite number\".format(num))\n",
    "else:\n",
    "    while i < num:\n",
    "        print(\"Iterating for {}\".format(i))\n",
    "        if num%i == 0:\n",
    "            isDivisible = True;\n",
    "            print(\"{} is divisible by{}\".format(num,i))\n",
    "            break;\n",
    "        \n",
    "        i += 1;\n",
    "    if isDivisible:\n",
    "        print(\"{} is a composite number\".format(num))\n",
    "    else:\n",
    "        print(\"{} is a prime number\".format(num))\n"
   ]
  },
  {
   "cell_type": "code",
   "execution_count": 21,
   "metadata": {},
   "outputs": [
    {
     "name": "stdout",
     "output_type": "stream",
     "text": [
      "1\n",
      "2\n",
      "3\n",
      "4\n",
      "5\n",
      "no items left in the list\n"
     ]
    }
   ],
   "source": [
    "# While loop with else\n",
    "numbers =[1,2,3,4,5]\n",
    "ind =0\n",
    "while ind < len(numbers):\n",
    "    print(numbers[ind])\n",
    "    ind += 1\n",
    "else:\n",
    "    print(\"no items left in the list\")"
   ]
  },
  {
   "cell_type": "code",
   "execution_count": null,
   "metadata": {},
   "outputs": [],
   "source": []
  },
  {
   "cell_type": "code",
   "execution_count": null,
   "metadata": {},
   "outputs": [],
   "source": []
  }
 ],
 "metadata": {
  "kernelspec": {
   "display_name": "Python 3",
   "language": "python",
   "name": "python3"
  },
  "language_info": {
   "codemirror_mode": {
    "name": "ipython",
    "version": 3
   },
   "file_extension": ".py",
   "mimetype": "text/x-python",
   "name": "python",
   "nbconvert_exporter": "python",
   "pygments_lexer": "ipython3",
   "version": "3.6.5"
  }
 },
 "nbformat": 4,
 "nbformat_minor": 2
}
