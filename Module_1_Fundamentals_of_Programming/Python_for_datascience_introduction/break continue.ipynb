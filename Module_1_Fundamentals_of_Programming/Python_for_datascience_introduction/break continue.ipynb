{
 "cells": [
  {
   "cell_type": "code",
   "execution_count": 3,
   "metadata": {},
   "outputs": [
    {
     "name": "stdout",
     "output_type": "stream",
     "text": [
      "Enter your number:78\n",
      "78\n",
      "Iterating for 2\n",
      "78 is divisible by2\n",
      "78 is a composite number\n"
     ]
    }
   ],
   "source": [
    "# Program to check if the given number is prime or not\n",
    "num = int(input(\"Enter your number:\"))\n",
    "\n",
    "i=2; # Start iterating with number2. Number 1 is not required as all numbers are divisible by 1\n",
    "isDivisible = False; # Flag to identify if the number is divisible\n",
    "\n",
    "print(num)\n",
    "\n",
    "# If number is 1, its neither prime nor composite\n",
    "if num==1:\n",
    "    print(\"{} is neither prime nor composite number\".format(num))\n",
    "else:\n",
    "    while i < num:\n",
    "        print(\"Iterating for {}\".format(i))\n",
    "        if num%i == 0:\n",
    "            isDivisible = True;\n",
    "            print(\"{} is divisible by{}\".format(num,i))\n",
    "            break;\n",
    "        \n",
    "        i += 1;\n",
    "    if isDivisible:\n",
    "        print(\"{} is a composite number\".format(num))\n",
    "    else:\n",
    "        print(\"{} is a prime number\".format(num))"
   ]
  },
  {
   "cell_type": "code",
   "execution_count": 8,
   "metadata": {},
   "outputs": [
    {
     "name": "stdout",
     "output_type": "stream",
     "text": [
      "Enter your number:11\n",
      "11\n",
      "Iterating for 2\n",
      "Iterating for 3\n",
      "Iterating for 4\n",
      "Iterating for 5\n",
      "Iterating for 6\n",
      "Iterating for 7\n",
      "Iterating for 8\n",
      "Iterating for 9\n",
      "Iterating for 10\n",
      "11 is a prime number\n"
     ]
    }
   ],
   "source": [
    "# Program to check if the given number is prime or not\n",
    "num = int(input(\"Enter your number:\"))\n",
    "\n",
    "i=2; # Start iterating with number2. Number 1 is not required as all numbers are divisible by 1\n",
    "isDivisible = False; # Flag to identify if the number is divisible\n",
    "\n",
    "print(num)\n",
    "\n",
    "# If number is 1, its neither prime nor composite\n",
    "if num==1:\n",
    "    print(\"{} is neither prime nor composite number\".format(num))\n",
    "else:\n",
    "    for i in range(2,num):\n",
    "        print(\"Iterating for {}\".format(i))\n",
    "        if num%i == 0:\n",
    "            isDivisible = True;\n",
    "            print(\"{} is divisible by{}\".format(num,i))\n",
    "            break;\n",
    "        \n",
    "       \n",
    "    if isDivisible:\n",
    "        print(\"{} is a composite number\".format(num))\n",
    "    else:\n",
    "        print(\"{} is a prime number\".format(num))"
   ]
  },
  {
   "cell_type": "code",
   "execution_count": 12,
   "metadata": {},
   "outputs": [
    {
     "name": "stdout",
     "output_type": "stream",
     "text": [
      "1\n",
      "3\n",
      "5\n",
      "7\n",
      "else for loop\n"
     ]
    }
   ],
   "source": [
    "# Print Odd Numbers\n",
    "numbers = [1,2,3,4,5,6,7]\n",
    "\n",
    "for i in numbers:\n",
    "    if i%2 == 0:\n",
    "        continue\n",
    "    print(i)\n",
    "else:\n",
    "    print(\"else for loop\")\n"
   ]
  },
  {
   "cell_type": "code",
   "execution_count": 13,
   "metadata": {},
   "outputs": [
    {
     "name": "stdout",
     "output_type": "stream",
     "text": [
      "2\n",
      "4\n",
      "6\n",
      "else for loop\n"
     ]
    }
   ],
   "source": [
    "# Print Even Numbers\n",
    "numbers = [1,2,3,4,5,6,7]\n",
    "\n",
    "for i in numbers:\n",
    "    if i%2 != 0:\n",
    "        continue\n",
    "    print(i)\n",
    "else:\n",
    "    print(\"else for loop\")\n"
   ]
  },
  {
   "cell_type": "code",
   "execution_count": null,
   "metadata": {},
   "outputs": [],
   "source": []
  }
 ],
 "metadata": {
  "kernelspec": {
   "display_name": "Python 3",
   "language": "python",
   "name": "python3"
  },
  "language_info": {
   "codemirror_mode": {
    "name": "ipython",
    "version": 3
   },
   "file_extension": ".py",
   "mimetype": "text/x-python",
   "name": "python",
   "nbconvert_exporter": "python",
   "pygments_lexer": "ipython3",
   "version": "3.6.5"
  }
 },
 "nbformat": 4,
 "nbformat_minor": 2
}
