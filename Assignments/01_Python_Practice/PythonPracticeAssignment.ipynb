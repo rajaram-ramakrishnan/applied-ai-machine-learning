{
  "nbformat": 4,
  "nbformat_minor": 0,
  "metadata": {
    "colab": {
      "name": "PythonPracticeAssignment.ipynb",
      "provenance": [],
      "collapsed_sections": []
    },
    "kernelspec": {
      "name": "python3",
      "display_name": "Python 3"
    },
    "language_info": {
      "name": "python"
    }
  },
  "cells": [
    {
      "cell_type": "markdown",
      "metadata": {
        "id": "vUEI4IlBF1Rr"
      },
      "source": [
        "# **Functions Assignment**\n",
        "\n",
        "This assignment is on Python Functions as part of applied ai course. This has 14 questions."
      ]
    },
    {
      "cell_type": "markdown",
      "metadata": {
        "id": "pIu18nymGTu6"
      },
      "source": [
        "1. Write a function that inputs a number and prints the multiplication of that number.\n",
        "\n",
        " Steps :\n",
        "\n",
        "   1. Accepts user input for multiplication table to be printed\n",
        "   2. Invokes user-defined function multiplication\n",
        "   3. Function accepts user input and prints multiplication table from 1 to 15"
      ]
    },
    {
      "cell_type": "code",
      "metadata": {
        "colab": {
          "base_uri": "https://localhost:8080/"
        },
        "id": "Vg_3cUhCGhEb",
        "outputId": "dbf01f70-84ac-4ecf-ab8f-1a3651eaf6dc"
      },
      "source": [
        "def multiplication(n):\n",
        "  \n",
        "  '''\n",
        "     This function accepts user input and prints multiplication table till 15 for the input number \n",
        "  '''\n",
        "\n",
        "  for i in range(1,16):\n",
        "    print(n,'*',i,'=',n*i)\n",
        "\n",
        "\n",
        "num = int(input('Print multiplication table of : '))\n",
        "multiplication(num)"
      ],
      "execution_count": null,
      "outputs": [
        {
          "output_type": "stream",
          "text": [
            "Print multiplication table of : 18\n",
            "18 * 1 = 18\n",
            "18 * 2 = 36\n",
            "18 * 3 = 54\n",
            "18 * 4 = 72\n",
            "18 * 5 = 90\n",
            "18 * 6 = 108\n",
            "18 * 7 = 126\n",
            "18 * 8 = 144\n",
            "18 * 9 = 162\n",
            "18 * 10 = 180\n",
            "18 * 11 = 198\n",
            "18 * 12 = 216\n",
            "18 * 13 = 234\n",
            "18 * 14 = 252\n",
            "18 * 15 = 270\n"
          ],
          "name": "stdout"
        }
      ]
    },
    {
      "cell_type": "markdown",
      "metadata": {
        "id": "ePTi20FrJE8T"
      },
      "source": [
        "2. Write a program to print twin primes less than 1000. If two consecutive odd numbers are both prime then they are known as twin primes\n",
        "\n",
        "   Steps :\n",
        "\n",
        "     1. Define prime number user-defined function. A number which divides by 1 and itself is called prime. \n",
        "     2. Define twinprime user-defined function. For each consecutive odd numbers from 3 till the number we want to print , check if both consecutive numbers are prime.\n",
        "     3. if both are prime print the numbers, Otherwise skip.\n"
      ]
    },
    {
      "cell_type": "code",
      "metadata": {
        "colab": {
          "base_uri": "https://localhost:8080/"
        },
        "id": "xgOhriSJL1nt",
        "outputId": "8d792824-27e6-416b-99c1-7c74b1eef698"
      },
      "source": [
        "def prime(n):\n",
        "  '''\n",
        "     This function checks if the input number is prime or not.\n",
        "     If Prime, returns True else it returns False\n",
        "  '''\n",
        "\n",
        "  for i in range(2,int(n ** 0.5)+2): # instead of going for entire n-1 numbers, we can do only till sqrt(n). We added 2 one for floor and other for indexing    \n",
        "    if n%i == 0 :\n",
        "      return False\n",
        "  return True\n",
        "\n",
        "def twinprime(num):\n",
        "  '''\n",
        "     This function returns numbers if consecutive odd numbers are prime.\n",
        "     Ex: 3 and 5 are consecutive odd numbers\n",
        "  '''\n",
        "  for i in range(3,num,2): # starts from 3 and increment by 2 as we need to find consecutive odd numbers\n",
        "    nextnum = i + 2 # generate next num for comparison\n",
        "    if (prime(i) and prime(nextnum)):\n",
        "      print(i,'and',nextnum)\n",
        "\n",
        "twinprime(1000)\n",
        "\n",
        "    "
      ],
      "execution_count": null,
      "outputs": [
        {
          "output_type": "stream",
          "text": [
            "3 and 5\n",
            "5 and 7\n",
            "11 and 13\n",
            "17 and 19\n",
            "29 and 31\n",
            "41 and 43\n",
            "59 and 61\n",
            "71 and 73\n",
            "101 and 103\n",
            "107 and 109\n",
            "137 and 139\n",
            "149 and 151\n",
            "179 and 181\n",
            "191 and 193\n",
            "197 and 199\n",
            "227 and 229\n",
            "239 and 241\n",
            "269 and 271\n",
            "281 and 283\n",
            "311 and 313\n",
            "347 and 349\n",
            "419 and 421\n",
            "431 and 433\n",
            "461 and 463\n",
            "521 and 523\n",
            "569 and 571\n",
            "599 and 601\n",
            "617 and 619\n",
            "641 and 643\n",
            "659 and 661\n",
            "809 and 811\n",
            "821 and 823\n",
            "827 and 829\n",
            "857 and 859\n",
            "881 and 883\n"
          ],
          "name": "stdout"
        }
      ]
    },
    {
      "cell_type": "markdown",
      "metadata": {
        "id": "b_wNCD2jSorN"
      },
      "source": [
        "3. Write a program to find out the prime factors of a number. Example - prime factors of 56 is 2,2,2,7\n",
        "\n",
        "   Steps :\n",
        "\n",
        "     1. Check if number is divided by 2. If yes, now the new  number will be half of original. Repeat this till the number is divisible by 2.\n",
        "     2. if number is no longer divided by 2, we start from 3 till square-root of a number with increment of 2. Reason for chosing square root is the highest factor of a number can be square root of number. For example : prime factors of 49 is 7 which is square root of number. \n",
        "     3. There are chances that step2 will not be reached for some numbers. If the number is prime, we add the numbers.\n",
        "\n",
        "  Example : 56\n",
        "\n",
        "    1. 56 is divided by 2. New Number is 28\n",
        "    2. 28 is divided by 2. New Number is 14\n",
        "    3. 14 is divided by 2. New Number is 7\n",
        "    4. Sqrt of 7 is 2.64. Integer is 2. This doesnt go inside loop of step 2.\n",
        "    5. Last if now adds the number 7 to factors.\n",
        "\n",
        "Credit : https://www.geeksforgeeks.org/print-all-prime-factors-of-a-given-number/  for step-2 logic on square-root\n",
        "\n"
      ]
    },
    {
      "cell_type": "code",
      "metadata": {
        "colab": {
          "base_uri": "https://localhost:8080/"
        },
        "id": "_i-YHAMcTnag",
        "outputId": "e73cab89-d4cb-4c4b-a222-c933b814be0d"
      },
      "source": [
        "def primefactor(num):\n",
        "  '''\n",
        "     This function returns the primefactors of a given number in a list\n",
        "  '''\n",
        "  factors = []\n",
        "\n",
        "  while num % 2 == 0 : # block to handle only 2\n",
        "       factors.append(2)\n",
        "       num /= 2\n",
        "\n",
        "  for i in range(3, int(num ** 0.5)+1, 2): # for loop to handle from 3 and all other even numbers are ignored\n",
        "       \n",
        "       while num % i == 0:\n",
        "           factors.append(i)\n",
        "           num /= i\n",
        "  \n",
        "  if num > 2:\n",
        "     factors.append(int(num))\n",
        "    \n",
        "  return factors\n",
        "\n",
        "print(primefactor(56))\n",
        "print(primefactor(1035))"
      ],
      "execution_count": null,
      "outputs": [
        {
          "output_type": "stream",
          "text": [
            "[2, 2, 2, 7]\n",
            "[3, 3, 5, 23]\n"
          ],
          "name": "stdout"
        }
      ]
    },
    {
      "cell_type": "markdown",
      "metadata": {
        "id": "Y3ci3wrcecsQ"
      },
      "source": [
        "4. Write a program to implement these formulae of permutations and combinations. Number of permutations of n objects taken r at time : p(n,r) = $ n! / $(n-r)! . Number of combinations of n objects taken r at a time is : c(n,r) = $n! / ($r! * $(n-r)! = p(n,r) / $r!\n",
        "\n",
        "  Steps :\n",
        "\n",
        "    1. Write a recursive function to calculate factorial.\n",
        "    2. Write a function to calculate permutations using the formula\n",
        "    3. Write a function to calculate combinations using the formula\n",
        "\n",
        "    "
      ]
    },
    {
      "cell_type": "code",
      "metadata": {
        "colab": {
          "base_uri": "https://localhost:8080/"
        },
        "id": "WVsazvZgf-C-",
        "outputId": "1ba50639-d84d-464b-a2d5-3535a71c417e"
      },
      "source": [
        "def factorial(num):\n",
        "  '''\n",
        "  This function returns factorial of a number using recursive method\n",
        "  '''\n",
        "  return 1 if num<=1 else num * factorial(num-1) # using recursive. Boundary case : 0 and 1 if factorial is 1. else n * (n-1) !\n",
        "\n",
        "def nbofpermutations(n,r):\n",
        "  '''\n",
        "  This function retuerns number of permulations using the factorial formula\n",
        "  '''\n",
        "  return (factorial(n)/ factorial(n-r))\n",
        "\n",
        "def nbofcombinations(n,r):\n",
        "  '''\n",
        "  This function returns number of combinations using nb of permutaions and factorial formula\n",
        "  '''\n",
        "  return (nbofpermutations(n,r)/ factorial(r))\n",
        "\n",
        "print(nbofpermutations(9,2))\n",
        "print(nbofcombinations(9,4))"
      ],
      "execution_count": null,
      "outputs": [
        {
          "output_type": "stream",
          "text": [
            "72.0\n",
            "126.0\n"
          ],
          "name": "stdout"
        }
      ]
    },
    {
      "cell_type": "markdown",
      "metadata": {
        "id": "Xi_K4MMXl9Cp"
      },
      "source": [
        "5. Write a function that converts a decimal number to binary number\n",
        "\n",
        "![Assignment_1_dec_to_binary.png](data:image/png;base64,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)"
      ]
    },
    {
      "cell_type": "code",
      "metadata": {
        "colab": {
          "base_uri": "https://localhost:8080/"
        },
        "id": "vW3IwXwGl91c",
        "outputId": "ae953777-423f-44e4-b85e-ead69616fde7"
      },
      "source": [
        "def dectobin(num):\n",
        "  '''\n",
        "  This function prints the binary equvialent of a given integer\n",
        "  '''\n",
        "  \n",
        "  if num >= 1: # call recursive function till the result reaches 1\n",
        "    dectobin(num//2) \n",
        "  print(num%2,end='') # end parameter used to remove new line in output\n",
        "\n",
        "\n",
        "dectobin(25)"
      ],
      "execution_count": null,
      "outputs": [
        {
          "output_type": "stream",
          "text": [
            "011001"
          ],
          "name": "stdout"
        }
      ]
    },
    {
      "cell_type": "markdown",
      "metadata": {
        "id": "8D8RvdzAu-fc"
      },
      "source": [
        "Credit : https://www.guru99.com/print-without-newline-python.html for converting the output to a single line."
      ]
    },
    {
      "cell_type": "markdown",
      "metadata": {
        "id": "p3bWasu-vlSI"
      },
      "source": [
        "6. Write a function cubesum() that accepts an integer and returns the sum of cubes of individual digits of that number. use this function to make functions PrintArmStrong() and isArmStrong() to print Armstrong numbers and to find whether is an Armstrong Number\n",
        "\n",
        "   Steps :\n",
        "\n",
        "    1. Create a function cubseum which calculates the sum by adding cube of each digits of a number.\n",
        "    2. Create a function printArmStrong which prints Armstrong numbers from 100 as Armstrong numbers can be calculated using the cubesum function. It uses cubesum function to print ArmStrong\n",
        "    3. Create a function isArmstrong which identifies given number is armstrong. It uses cubesum to identify it."
      ]
    },
    {
      "cell_type": "code",
      "metadata": {
        "colab": {
          "base_uri": "https://localhost:8080/"
        },
        "id": "ypmsYSauvmcw",
        "outputId": "d8ac97be-c2d1-438d-b0d4-067ae64936a0"
      },
      "source": [
        "def cubesum(num):\n",
        "  '''\n",
        "  This function returns sum of cube of the digits of number passed\n",
        "  '''\n",
        "\n",
        "  sum =0\n",
        "\n",
        "  for i in range(len(str(num))): # loop based on the number of digits\n",
        "    sum = sum + ((num%10)**3) # cube of each digit by taking remainder\n",
        "    num = num // 10 # number set for next iteration\n",
        "  \n",
        "  return sum\n",
        "\n",
        "def printArmStrong(num):\n",
        "  '''\n",
        "  This function prints Armstrong numbers for a range of numbers\n",
        "  '''\n",
        "\n",
        "  print('Armstrong Numbers are :')\n",
        "  for i in range(100,num): # only 3 digit numbers are cosniderded\n",
        "      if cubesum(i) == i :\n",
        "         print(i)\n",
        "\n",
        "def isArmStrong(num):\n",
        "  '''\n",
        "  This function checks if the number is armstrong or not.\n",
        "  Prints message whether number is armstronmg or not\n",
        "  '''\n",
        "\n",
        "  if (cubesum(num)== num):\n",
        "    print(num, 'is an armstrong number')\n",
        "  else :\n",
        "    print(num, 'is not an armstrong number')\n",
        "\n",
        "printArmStrong(1000)\n",
        "print('***************************************')\n",
        "isArmStrong(153)\n",
        "print('***************************************')\n",
        "isArmStrong(408)\n",
        "print('***************************************')\n",
        "isArmStrong(12)\n",
        "print('***************************************')\n",
        "isArmStrong(370)"
      ],
      "execution_count": null,
      "outputs": [
        {
          "output_type": "stream",
          "text": [
            "Armstrong Numbers are :\n",
            "153\n",
            "370\n",
            "371\n",
            "407\n",
            "***************************************\n",
            "153 is an armstrong number\n",
            "***************************************\n",
            "408 is not an armstrong number\n",
            "***************************************\n",
            "12 is not an armstrong number\n",
            "***************************************\n",
            "370 is an armstrong number\n"
          ],
          "name": "stdout"
        }
      ]
    },
    {
      "cell_type": "markdown",
      "metadata": {
        "id": "RgVPS3afJ3z0"
      },
      "source": [
        "7. Write a function prodDigits() that inputs a number and return product of digits of that number\n",
        "\n",
        "   Steps :\n",
        "\n",
        "     1. convert input number to a list of numbers\n",
        "     2. List comprhension can be used to convert from number to list\n",
        "     2. use reduce function to calculate the product"
      ]
    },
    {
      "cell_type": "code",
      "metadata": {
        "colab": {
          "base_uri": "https://localhost:8080/"
        },
        "id": "tNm3BIPTKW5D",
        "outputId": "d0489513-a160-4ff7-a2ec-f2761027d0bc"
      },
      "source": [
        "from functools import reduce\n",
        "\n",
        "def prodDigits(num):\n",
        "  '''\n",
        "  This function returns the product of digits of a number\n",
        "  '''\n",
        "  lnum = [int(x) for x in str(num)]\n",
        "  prod = reduce(lambda x,y : x * y , lnum)\n",
        "  return prod\n",
        "\n",
        "prodDigits(12345)"
      ],
      "execution_count": null,
      "outputs": [
        {
          "output_type": "execute_result",
          "data": {
            "text/plain": [
              "120"
            ]
          },
          "metadata": {
            "tags": []
          },
          "execution_count": 124
        }
      ]
    },
    {
      "cell_type": "markdown",
      "metadata": {
        "id": "SB4bwqfCNcZq"
      },
      "source": [
        "8. If all digits of a number n are multiplied by each other repeating with product , the one digit number obtained at last is called the multiplicative digital root of n. The number of times digits need to be multiplied to reach one digit is called multiplicative persistance of n.\n",
        "\n",
        "   Example : 86 -> 48 -> 32 -> 6 (MDR 6, Mpersistence 3)\n",
        "   Example : 341 -> 12 -> 2 (MDR 2, MPersistence 2)\n",
        "\n",
        "   using the function prodDigits() of previous exercise write functions MDR()and MPersistence() that returns a number and return its multiplicative digital root and multiplicative persistence respectivley\n",
        "\n",
        "   Steps :\n",
        "\n",
        "     1. In MDR, call prodDidgits till the resultant number is single digit\n",
        "     2. In Mpersistence , call prodDigits and count the nb of times. That gives Mpersistence\n",
        "     \n",
        "\n",
        "\n",
        "\n",
        "         "
      ]
    },
    {
      "cell_type": "code",
      "metadata": {
        "colab": {
          "base_uri": "https://localhost:8080/"
        },
        "id": "AzIW-KQoRfk6",
        "outputId": "cc509e2f-6611-4d2b-c33e-e91d93b12c0c"
      },
      "source": [
        "def MDR(num):\n",
        "  '''\n",
        "  This function return the multiplicative digital root of a number\n",
        "  '''\n",
        "  num = prodDigits(num) # calculate product\n",
        "  res = MDR(num) if num > 9 else num # call same function recursivley till the result reaches single digit\n",
        "  return res\n",
        "\n",
        "def MPersistence(num):\n",
        "  '''\n",
        "  This function returns the multiplicative persistence of a number\n",
        "  '''\n",
        "  cnt = 0\n",
        "  while (num >9): # loop till the result reaches single digit\n",
        "      num = prodDigits(num)\n",
        "      cnt += 1\n",
        "  return cnt\n",
        "\n",
        "\n",
        "print(MDR(341))\n",
        "print(MPersistence(341))\n",
        "print(MDR(86))\n",
        "print(MPersistence(86))"
      ],
      "execution_count": null,
      "outputs": [
        {
          "output_type": "stream",
          "text": [
            "2\n",
            "2\n",
            "6\n",
            "3\n"
          ],
          "name": "stdout"
        }
      ]
    },
    {
      "cell_type": "markdown",
      "metadata": {
        "id": "Y5pciR6_8L_6"
      },
      "source": [
        "9. Write a function sumPdivisors() that finds the sum of proper divisions of a number. Proper divisors of a number are those numbers by which the number is divisible , except the number itself. For example proper divisors of 36 are 1,2,3,4,6,9,18\n",
        "\n",
        "   Steps:\n",
        "\n",
        "      1. Divisors are come in pairs. For example 1,36 and 36,1 , 2,18 and 18,2 etc.\n",
        "      2. To Optimize it, we will loop till the line is reached and after that reversal will happen.\n",
        "      3. Square root of a number gives the line. \n",
        "      4. We add both of the numbers to the list like 1 and 36, 2 and 18 etc\n",
        "      5. Need to handle 2 boundary cases. if both the divisors are equal like 6 and 6, we consider only one number. Also, we should not consider the actual number\n",
        "      6. List is populated now and we sort the list\n",
        "      7. Last, we call reduce function to calculate the sum."
      ]
    },
    {
      "cell_type": "code",
      "metadata": {
        "colab": {
          "base_uri": "https://localhost:8080/"
        },
        "id": "nYpdll1B-Gd1",
        "outputId": "b1564434-773f-41b4-d8ba-118b13ef7dac"
      },
      "source": [
        "def sumPdivisors(num):\n",
        "  '''\n",
        "  This function returns sum of proper divisors of a number\n",
        "  '''\n",
        "  i = 1\n",
        "  res =[]\n",
        "\n",
        "  while i**2 <= num: # loop only till square root of number\n",
        "    if (num % i ==0): # only if numbver is divided exactly, then add the number to list\n",
        "      if ((i == num/i) or (num/i == num)): ## Boundary cases if both divisors are same or divisor is actual number add only one number to list\n",
        "        res.append(i)\n",
        "      else: ## All other cases add both numbers to list\n",
        "        res.append(i)\n",
        "        res.append(int(num/i))\n",
        "    i = i +1 # loop counter\n",
        "  res.sort() # In-place sort the list\n",
        "  #print(res)\n",
        "  #print('**********************************************')\n",
        "  return reduce(lambda x,y : x+y, res) # calculate sum of divisors\n",
        "\n",
        "print(sumPdivisors(36))\n",
        "print(sumPdivisors(28))\n",
        "print(sumPdivisors(496))"
      ],
      "execution_count": null,
      "outputs": [
        {
          "output_type": "stream",
          "text": [
            "55\n",
            "28\n",
            "496\n"
          ],
          "name": "stdout"
        }
      ]
    },
    {
      "cell_type": "markdown",
      "metadata": {
        "id": "aM1vqiUrGJue"
      },
      "source": [
        "10. A number is called perfect if the sum of the proper divisors of that number is equal to the number. For example 28 is perfect number , since 1 + 2 + 4 +7 + 14 = 28. Write a program to print all the perfect numbers in a range\n",
        "\n",
        "    Steps :\n",
        "\n",
        "       1. Loop through range of numbers\n",
        "       2. for each number, check the number and sum of proper divisors are same\n",
        "       3. If same print , otherwise dont print it"
      ]
    },
    {
      "cell_type": "code",
      "metadata": {
        "colab": {
          "base_uri": "https://localhost:8080/"
        },
        "id": "Ob40bj2yGmE0",
        "outputId": "d69fd130-1d08-4668-d596-78053a9b1acc"
      },
      "source": [
        "def perfectNumbers(num):\n",
        "  '''\n",
        "  This function prints all the perfect numbers in a range\n",
        "  '''\n",
        "\n",
        "  for i in range(1,num+1): # Loop through range of numbers      \n",
        "      if i == sumPdivisors(i): # check if number and sumof divisors are same\n",
        "          print(i)\n",
        "  \n",
        "perfectNumbers(1000)"
      ],
      "execution_count": null,
      "outputs": [
        {
          "output_type": "stream",
          "text": [
            "1\n",
            "6\n",
            "28\n",
            "496\n"
          ],
          "name": "stdout"
        }
      ]
    },
    {
      "cell_type": "markdown",
      "metadata": {
        "id": "SKHE3jBvKrSV"
      },
      "source": [
        "11. Two different numbers are called amicable numbers if the sum of the proper divisors of each is equal to the other number. For example 220 and 284 are amicable numbers. Write a function to print pairs of amicable numbers in a range.\n",
        "\n",
        "    Steps :\n",
        "       1. Loop all the elements in a range\n",
        "       2. Calculate the sumof divisors of a element\n",
        "       3. calculate the sum of divisors of a above result\n",
        "       4. If both are same, its amicable and add to a list as Tuples\n",
        "       5. sort the tuples\n",
        "       5. Finally convert to set to remove same pairs\n",
        "\n",
        "    "
      ]
    },
    {
      "cell_type": "code",
      "metadata": {
        "colab": {
          "base_uri": "https://localhost:8080/"
        },
        "id": "OzMr53nhOaYA",
        "outputId": "844b0870-6a5c-4542-b180-b2821f23d765"
      },
      "source": [
        "def amicable(num):\n",
        "  '''\n",
        "  This function geneartes amicable numbers for a range of numbers\n",
        "  '''\n",
        "  result = []\n",
        "  for i in range(1, num+1): # Loop through range of numbers\n",
        "      sumdiv = sumPdivisors(i) # calculate sumof divisors of an element\n",
        "      \n",
        "      if sumPdivisors(sumdiv) == i and i != sumdiv : # check if element and sum of divisors of sum are same\n",
        "          result.append(tuple(sorted([i, sumdiv])))\n",
        "  return set(result) # remove duplicate pairs\n",
        "\n",
        "\n",
        "amicable(10000)"
      ],
      "execution_count": null,
      "outputs": [
        {
          "output_type": "execute_result",
          "data": {
            "text/plain": [
              "{(220, 284), (1184, 1210), (2620, 2924), (5020, 5564), (6232, 6368)}"
            ]
          },
          "metadata": {
            "tags": []
          },
          "execution_count": 129
        }
      ]
    },
    {
      "cell_type": "markdown",
      "metadata": {
        "id": "XTYSX7wnXHcE"
      },
      "source": [
        "12. Write a program which can filter odd numbers in a list by using filter function\n",
        "\n",
        "    Steps :\n",
        "       1. Write lambda function which returns True for Odd Numbers and False for even numbers\n",
        "       2. Filter function selects only true results\n",
        "       3. convert the result to list and return\n",
        "   "
      ]
    },
    {
      "cell_type": "code",
      "metadata": {
        "colab": {
          "base_uri": "https://localhost:8080/"
        },
        "id": "v83Oa5EXZOZB",
        "outputId": "ec946d09-f98b-453d-b647-dd27fd600384"
      },
      "source": [
        "def filterodd(lst):\n",
        "  '''\n",
        "  This program returns od number if a input list\n",
        "  '''\n",
        "\n",
        "  res = list(filter(lambda x : True if x%2 != 0 else False, lst))\n",
        "  return res\n",
        "\n",
        "lstodd = filterodd(range(51))\n",
        "print(lstodd)"
      ],
      "execution_count": null,
      "outputs": [
        {
          "output_type": "stream",
          "text": [
            "[1, 3, 5, 7, 9, 11, 13, 15, 17, 19, 21, 23, 25, 27, 29, 31, 33, 35, 37, 39, 41, 43, 45, 47, 49]\n"
          ],
          "name": "stdout"
        }
      ]
    },
    {
      "cell_type": "markdown",
      "metadata": {
        "id": "x-WFRnvqbj84"
      },
      "source": [
        "13. Write a program which can map() to make a list whose elements are cube of elements in a given list\n",
        "\n",
        "    Steps :\n",
        "\n",
        "      1. Define a function which accepts list\n",
        "      2. write a lambda function to calculate cube\n",
        "      3. use map function and return the result\n",
        "      4. convert the result to list and return"
      ]
    },
    {
      "cell_type": "code",
      "metadata": {
        "colab": {
          "base_uri": "https://localhost:8080/"
        },
        "id": "9AxVAG8qcCTx",
        "outputId": "42e73775-5cec-499a-b1d8-70df6bc964ad"
      },
      "source": [
        "def cubelist(lst):\n",
        "  '''\n",
        "  This function returns cube of elements in a list\n",
        "  '''\n",
        "\n",
        "  res = list(map(lambda x : x ** 3, lst))\n",
        "  return res\n",
        "\n",
        "lstcube = cubelist(range(11))\n",
        "print(lstcube)"
      ],
      "execution_count": null,
      "outputs": [
        {
          "output_type": "stream",
          "text": [
            "[0, 1, 8, 27, 64, 125, 216, 343, 512, 729, 1000]\n"
          ],
          "name": "stdout"
        }
      ]
    },
    {
      "cell_type": "markdown",
      "metadata": {
        "id": "ZgxFJg6mdeDh"
      },
      "source": [
        "14. write a program which can map() and filter() to make a list whose elements are cube of even number in a given list\n",
        "\n",
        "   Steps :\n",
        "      \n",
        "      1. Define a function which accepts list\n",
        "      2. Write a lambda and filter only even numbers\n",
        "      3. Apply map to the above\n",
        "      4. convert to list and return"
      ]
    },
    {
      "cell_type": "code",
      "metadata": {
        "colab": {
          "base_uri": "https://localhost:8080/"
        },
        "id": "ci-DG0R1elQw",
        "outputId": "ea795c5e-a607-438c-b55a-e61ae9a91c98"
      },
      "source": [
        "def cubeeven(lst):\n",
        "  '''\n",
        "  This function returns cube of even number in a list\n",
        "  '''\n",
        "\n",
        "  res = list(map(lambda x : x**3,filter(lambda x : True if x%2 == 0 else False, lst)))\n",
        "  return res\n",
        "\n",
        "lstcubeeven = cubeeven(range(1,11))\n",
        "print(lstcubeeven)"
      ],
      "execution_count": null,
      "outputs": [
        {
          "output_type": "stream",
          "text": [
            "[8, 64, 216, 512, 1000]\n"
          ],
          "name": "stdout"
        }
      ]
    }
  ]
}